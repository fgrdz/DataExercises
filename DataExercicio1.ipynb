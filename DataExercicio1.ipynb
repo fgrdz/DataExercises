{
  "nbformat": 4,
  "nbformat_minor": 0,
  "metadata": {
    "colab": {
      "provenance": [],
      "authorship_tag": "ABX9TyNrw1fbDEiwaS8p+RfBu7Fd",
      "include_colab_link": true
    },
    "kernelspec": {
      "name": "python3",
      "display_name": "Python 3"
    },
    "language_info": {
      "name": "python"
    }
  },
  "cells": [
    {
      "cell_type": "markdown",
      "metadata": {
        "id": "view-in-github",
        "colab_type": "text"
      },
      "source": [
        "<a href=\"https://colab.research.google.com/github/fgrdz/DataExercises/blob/main/DataExercicio1.ipynb\" target=\"_parent\"><img src=\"https://colab.research.google.com/assets/colab-badge.svg\" alt=\"Open In Colab\"/></a>"
      ]
    },
    {
      "cell_type": "markdown",
      "source": [
        "**Exercicio 1:** Importar o numpy usando o alias"
      ],
      "metadata": {
        "id": "HX5NGOk3gBzF"
      }
    },
    {
      "cell_type": "code",
      "execution_count": 1,
      "metadata": {
        "id": "DRqcIDANf7k_"
      },
      "outputs": [],
      "source": [
        "import numpy as np"
      ]
    },
    {
      "cell_type": "markdown",
      "source": [
        "**Exercicio 2:** Crie um programa que lê uma **lista** de números e escolha um número desta aleatoriamente."
      ],
      "metadata": {
        "id": "VpT2DkapgQot"
      }
    },
    {
      "cell_type": "code",
      "source": [
        "from random import choice\n",
        "\n",
        "lista = [8, 12, 54, 23, 43, 1, 90, 87, 105, 77]"
      ],
      "metadata": {
        "id": "6fdPHqchgWKi"
      },
      "execution_count": 2,
      "outputs": []
    },
    {
      "cell_type": "markdown",
      "source": [
        "# Exercecio com interação\n",
        "\n"
      ],
      "metadata": {
        "id": "qk3ReSnfg8MI"
      }
    },
    {
      "cell_type": "code",
      "source": [
        "pessoa = input(\"Digite seu nome para gerarmos seu token\")"
      ],
      "metadata": {
        "colab": {
          "base_uri": "https://localhost:8080/"
        },
        "id": "Vh7x5Sk1hZrM",
        "outputId": "af08dfe2-f3a2-4cbb-b9e3-59572b339af6"
      },
      "execution_count": 8,
      "outputs": [
        {
          "name": "stdout",
          "output_type": "stream",
          "text": [
            "Digite seu nome para gerarmos seu tokenJoao\n"
          ]
        }
      ]
    },
    {
      "cell_type": "code",
      "source": [
        "from random import randrange\n",
        "\n",
        "token = randrange(1000,9998)\n",
        "token"
      ],
      "metadata": {
        "colab": {
          "base_uri": "https://localhost:8080/"
        },
        "id": "orzLCMJuhxsD",
        "outputId": "fb6c8ade-56c9-40a1-876b-aeee97fd7885"
      },
      "execution_count": 9,
      "outputs": [
        {
          "output_type": "execute_result",
          "data": {
            "text/plain": [
              "8782"
            ]
          },
          "metadata": {},
          "execution_count": 9
        }
      ]
    },
    {
      "cell_type": "code",
      "source": [
        "print(f\"Olá, {pessoa}, o seu token de acesso é {token}! Seja bem-vindo(a)!\")"
      ],
      "metadata": {
        "colab": {
          "base_uri": "https://localhost:8080/"
        },
        "id": "XUcOE3cOihgP",
        "outputId": "8e33c193-b6fa-4d16-fd34-4a8f86c5b42d"
      },
      "execution_count": 10,
      "outputs": [
        {
          "output_type": "stream",
          "name": "stdout",
          "text": [
            "Olá, Joao, o seu token de acesso é 8782! Seja bem-vindo(a)!\n"
          ]
        }
      ]
    }
  ]
}