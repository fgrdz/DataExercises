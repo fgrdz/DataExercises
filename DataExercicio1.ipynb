{
  "nbformat": 4,
  "nbformat_minor": 0,
  "metadata": {
    "colab": {
      "provenance": [],
      "authorship_tag": "ABX9TyPk3UJdkANWm06qzT4w2fGq",
      "include_colab_link": true
    },
    "kernelspec": {
      "name": "python3",
      "display_name": "Python 3"
    },
    "language_info": {
      "name": "python"
    }
  },
  "cells": [
    {
      "cell_type": "markdown",
      "metadata": {
        "id": "view-in-github",
        "colab_type": "text"
      },
      "source": [
        "<a href=\"https://colab.research.google.com/github/fgrdz/DataExercises/blob/main/DataExercicio1.ipynb\" target=\"_parent\"><img src=\"https://colab.research.google.com/assets/colab-badge.svg\" alt=\"Open In Colab\"/></a>"
      ]
    },
    {
      "cell_type": "markdown",
      "source": [
        "**Exercicio 1:** Importar o numpy usando o alias"
      ],
      "metadata": {
        "id": "HX5NGOk3gBzF"
      }
    },
    {
      "cell_type": "code",
      "execution_count": null,
      "metadata": {
        "id": "DRqcIDANf7k_"
      },
      "outputs": [],
      "source": [
        "import numpy as np"
      ]
    },
    {
      "cell_type": "markdown",
      "source": [
        "**Exercicio 2:** Crie um programa que lê uma **lista** de números e escolha um número desta aleatoriamente."
      ],
      "metadata": {
        "id": "VpT2DkapgQot"
      }
    },
    {
      "cell_type": "code",
      "source": [
        "from random import choice\n",
        "\n",
        "lista = [8, 12, 54, 23, 43, 1, 90, 87, 105, 77]"
      ],
      "metadata": {
        "id": "6fdPHqchgWKi"
      },
      "execution_count": null,
      "outputs": []
    },
    {
      "cell_type": "markdown",
      "source": [
        "# Exercecio com interação\n",
        "\n"
      ],
      "metadata": {
        "id": "qk3ReSnfg8MI"
      }
    },
    {
      "cell_type": "code",
      "source": [
        "pessoa = input(\"Digite seu nome para gerarmos seu token\")"
      ],
      "metadata": {
        "colab": {
          "base_uri": "https://localhost:8080/"
        },
        "id": "Vh7x5Sk1hZrM",
        "outputId": "af08dfe2-f3a2-4cbb-b9e3-59572b339af6"
      },
      "execution_count": null,
      "outputs": [
        {
          "name": "stdout",
          "output_type": "stream",
          "text": [
            "Digite seu nome para gerarmos seu tokenJoao\n"
          ]
        }
      ]
    },
    {
      "cell_type": "code",
      "source": [
        "from random import randrange\n",
        "\n",
        "token = randrange(1000,9998)\n",
        "token"
      ],
      "metadata": {
        "colab": {
          "base_uri": "https://localhost:8080/"
        },
        "id": "orzLCMJuhxsD",
        "outputId": "fb6c8ade-56c9-40a1-876b-aeee97fd7885"
      },
      "execution_count": null,
      "outputs": [
        {
          "output_type": "execute_result",
          "data": {
            "text/plain": [
              "8782"
            ]
          },
          "metadata": {},
          "execution_count": 9
        }
      ]
    },
    {
      "cell_type": "code",
      "source": [
        "print(f\"Olá, {pessoa}, o seu token de acesso é {token}! Seja bem-vindo(a)!\")"
      ],
      "metadata": {
        "colab": {
          "base_uri": "https://localhost:8080/"
        },
        "id": "XUcOE3cOihgP",
        "outputId": "8e33c193-b6fa-4d16-fd34-4a8f86c5b42d"
      },
      "execution_count": null,
      "outputs": [
        {
          "output_type": "stream",
          "name": "stdout",
          "text": [
            "Olá, Joao, o seu token de acesso é 8782! Seja bem-vindo(a)!\n"
          ]
        }
      ]
    },
    {
      "cell_type": "code",
      "source": [
        "notas_alunos = {\n",
        "    \"João\": 8.5,\n",
        "    \"Maria\": 9.0,\n",
        "    \"Pedro\": 7.2,\n",
        "    \"Ana\": 6.8,\n",
        "    \"Carlos\": 9.5,\n",
        "    \"Jose\": 0\n",
        "}\n",
        "notas_alunos"
      ],
      "metadata": {
        "colab": {
          "base_uri": "https://localhost:8080/"
        },
        "id": "45doaeV5yiyM",
        "outputId": "cefe6cb8-214f-48b9-f8dc-29cf73514b3f"
      },
      "execution_count": 8,
      "outputs": [
        {
          "output_type": "execute_result",
          "data": {
            "text/plain": [
              "{'João': 8.5, 'Maria': 9.0, 'Pedro': 7.2, 'Ana': 6.8, 'Carlos': 9.5, 'Jose': 0}"
            ]
          },
          "metadata": {},
          "execution_count": 8
        }
      ]
    },
    {
      "cell_type": "code",
      "source": [
        "soma = sum(notas_alunos.values())\n",
        "qtd = len(notas_alunos)\n",
        "media_turma = soma / qtd\n",
        "\n",
        "round(media_turma)"
      ],
      "metadata": {
        "colab": {
          "base_uri": "https://localhost:8080/"
        },
        "id": "_KcKdXiQy-Yf",
        "outputId": "73c82cdc-3463-4b7e-f701-46f641d0547b"
      },
      "execution_count": 10,
      "outputs": [
        {
          "output_type": "execute_result",
          "data": {
            "text/plain": [
              "7"
            ]
          },
          "metadata": {},
          "execution_count": 10
        }
      ]
    },
    {
      "cell_type": "markdown",
      "source": [
        "Dessa forma, o código pode ficar flexível, caso sejam adicionadas novas chaves no dicionário de notas, ele irá calcular a média corretamente.\n"
      ],
      "metadata": {
        "id": "N38AvqKpzl2w"
      }
    },
    {
      "cell_type": "code",
      "source": [],
      "metadata": {
        "id": "5HygCfHDz2QT"
      },
      "execution_count": null,
      "outputs": []
    }
  ]
}