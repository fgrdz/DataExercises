{
  "nbformat": 4,
  "nbformat_minor": 0,
  "metadata": {
    "colab": {
      "provenance": [],
      "authorship_tag": "ABX9TyNltInvYb813Mu1r9/SQf3n",
      "include_colab_link": true
    },
    "kernelspec": {
      "name": "python3",
      "display_name": "Python 3"
    },
    "language_info": {
      "name": "python"
    }
  },
  "cells": [
    {
      "cell_type": "markdown",
      "metadata": {
        "id": "view-in-github",
        "colab_type": "text"
      },
      "source": [
        "<a href=\"https://colab.research.google.com/github/fgrdz/DataExercises/blob/main/DataExercicio1.ipynb\" target=\"_parent\"><img src=\"https://colab.research.google.com/assets/colab-badge.svg\" alt=\"Open In Colab\"/></a>"
      ]
    },
    {
      "cell_type": "markdown",
      "source": [
        "**Exercicio 1:** Importar o numpy usando o alias"
      ],
      "metadata": {
        "id": "HX5NGOk3gBzF"
      }
    },
    {
      "cell_type": "code",
      "execution_count": null,
      "metadata": {
        "id": "DRqcIDANf7k_"
      },
      "outputs": [],
      "source": [
        "import numpy as np"
      ]
    },
    {
      "cell_type": "markdown",
      "source": [
        "**Exercicio 2:** Crie um programa que lê uma **lista** de números e escolha um número desta aleatoriamente."
      ],
      "metadata": {
        "id": "VpT2DkapgQot"
      }
    },
    {
      "cell_type": "code",
      "source": [
        "from random import choice\n",
        "\n",
        "lista = [8, 12, 54, 23, 43, 1, 90, 87, 105, 77]"
      ],
      "metadata": {
        "id": "6fdPHqchgWKi"
      },
      "execution_count": null,
      "outputs": []
    },
    {
      "cell_type": "markdown",
      "source": [
        "# Exercecio com interação\n",
        "\n"
      ],
      "metadata": {
        "id": "qk3ReSnfg8MI"
      }
    },
    {
      "cell_type": "code",
      "source": [
        "pessoa = input(\"Digite seu nome para gerarmos seu token\")"
      ],
      "metadata": {
        "colab": {
          "base_uri": "https://localhost:8080/"
        },
        "id": "Vh7x5Sk1hZrM",
        "outputId": "af08dfe2-f3a2-4cbb-b9e3-59572b339af6"
      },
      "execution_count": null,
      "outputs": [
        {
          "name": "stdout",
          "output_type": "stream",
          "text": [
            "Digite seu nome para gerarmos seu tokenJoao\n"
          ]
        }
      ]
    },
    {
      "cell_type": "code",
      "source": [
        "from random import randrange\n",
        "\n",
        "token = randrange(1000,9998)\n",
        "token"
      ],
      "metadata": {
        "colab": {
          "base_uri": "https://localhost:8080/"
        },
        "id": "orzLCMJuhxsD",
        "outputId": "fb6c8ade-56c9-40a1-876b-aeee97fd7885"
      },
      "execution_count": null,
      "outputs": [
        {
          "output_type": "execute_result",
          "data": {
            "text/plain": [
              "8782"
            ]
          },
          "metadata": {},
          "execution_count": 9
        }
      ]
    },
    {
      "cell_type": "code",
      "source": [
        "print(f\"Olá, {pessoa}, o seu token de acesso é {token}! Seja bem-vindo(a)!\")"
      ],
      "metadata": {
        "colab": {
          "base_uri": "https://localhost:8080/"
        },
        "id": "XUcOE3cOihgP",
        "outputId": "8e33c193-b6fa-4d16-fd34-4a8f86c5b42d"
      },
      "execution_count": null,
      "outputs": [
        {
          "output_type": "stream",
          "name": "stdout",
          "text": [
            "Olá, Joao, o seu token de acesso é 8782! Seja bem-vindo(a)!\n"
          ]
        }
      ]
    },
    {
      "cell_type": "code",
      "source": [
        "notas_alunos = {\n",
        "    \"João\": 8.5,\n",
        "    \"Maria\": 9.0,\n",
        "    \"Pedro\": 7.2,\n",
        "    \"Ana\": 6.8,\n",
        "    \"Carlos\": 9.5,\n",
        "    \"Jose\": 0\n",
        "}\n",
        "notas_alunos"
      ],
      "metadata": {
        "colab": {
          "base_uri": "https://localhost:8080/"
        },
        "id": "45doaeV5yiyM",
        "outputId": "75c12987-a02f-4728-eec4-694891fc9831"
      },
      "execution_count": 8,
      "outputs": [
        {
          "output_type": "execute_result",
          "data": {
            "text/plain": [
              "{'João': 8.5, 'Maria': 9.0, 'Pedro': 7.2, 'Ana': 6.8, 'Carlos': 9.5, 'Jose': 0}"
            ]
          },
          "metadata": {},
          "execution_count": 8
        }
      ]
    },
    {
      "cell_type": "code",
      "source": [
        "soma = sum(notas_alunos.values())\n",
        "qtd = len(notas_alunos)\n",
        "media_turma = soma / qtd\n",
        "\n",
        "round(media_turma)"
      ],
      "metadata": {
        "colab": {
          "base_uri": "https://localhost:8080/"
        },
        "id": "_KcKdXiQy-Yf",
        "outputId": "024bc04c-d7d6-4a26-9d16-393ab214d0d7"
      },
      "execution_count": 19,
      "outputs": [
        {
          "output_type": "execute_result",
          "data": {
            "text/plain": [
              "7"
            ]
          },
          "metadata": {},
          "execution_count": 19
        }
      ]
    },
    {
      "cell_type": "markdown",
      "source": [
        "Dessa forma, o código pode ficar flexível, caso sejam adicionadas novas chaves no dicionário de notas, ele irá calcular a média corretamente.\n"
      ],
      "metadata": {
        "id": "N38AvqKpzl2w"
      }
    },
    {
      "cell_type": "markdown",
      "source": [
        "Agora vou fazer adicionar um acréscimo as notas, converter para uma lista usando o list do Python, depois utilizando map e lambda function, adicionar o acréscimo em cada nota."
      ],
      "metadata": {
        "id": "uojZFxDz1oGZ"
      }
    },
    {
      "cell_type": "code",
      "source": [
        "notas_lista = list(notas_alunos.items())\n",
        "acrescimo = 1\n"
      ],
      "metadata": {
        "id": "5HygCfHDz2QT"
      },
      "execution_count": 9,
      "outputs": []
    },
    {
      "cell_type": "code",
      "source": [
        "def tuplas(x):\n",
        "  chave, valor = x;\n",
        "  nova_nota = valor + acrescimo\n",
        "  return nova_nota\n"
      ],
      "metadata": {
        "id": "Ne3zuLgX-Dv2"
      },
      "execution_count": 3,
      "outputs": []
    },
    {
      "cell_type": "code",
      "source": [
        "notas_atualizadas = list(map(tuplas, notas_lista))\n",
        "notas_atualizadas\n",
        "\n",
        "nomes = list(notas_alunos)\n",
        "nomes\n"
      ],
      "metadata": {
        "colab": {
          "base_uri": "https://localhost:8080/"
        },
        "id": "I0qCxBQE2LSt",
        "outputId": "17b406ae-bac9-4d13-ced2-ef35b46c69a5"
      },
      "execution_count": 21,
      "outputs": [
        {
          "output_type": "execute_result",
          "data": {
            "text/plain": [
              "['João', 'Maria', 'Pedro', 'Ana', 'Carlos', 'Jose']"
            ]
          },
          "metadata": {},
          "execution_count": 21
        }
      ]
    },
    {
      "cell_type": "markdown",
      "source": [
        "# *Estrutura de dados*"
      ],
      "metadata": {
        "id": "7dMjfxOyLjJ0"
      }
    },
    {
      "cell_type": "code",
      "source": [
        "estudantes = list(zip(nomes,notas_atualizadas))\n",
        "estudantes"
      ],
      "metadata": {
        "colab": {
          "base_uri": "https://localhost:8080/"
        },
        "id": "6xWImo-7qVrJ",
        "outputId": "786a7bdb-36ce-464d-df0b-676fba157cff"
      },
      "execution_count": 25,
      "outputs": [
        {
          "output_type": "execute_result",
          "data": {
            "text/plain": [
              "[('João', 9.5),\n",
              " ('Maria', 10.0),\n",
              " ('Pedro', 8.2),\n",
              " ('Ana', 7.8),\n",
              " ('Carlos', 10.5),\n",
              " ('Jose', 1)]"
            ]
          },
          "metadata": {},
          "execution_count": 25
        }
      ]
    },
    {
      "cell_type": "markdown",
      "source": [
        "Foi feita a lista de tuplas que retorna os alunos e as notas novas, abaixo, é exibido por meio de ListComprehension, os alunos com melhores médias"
      ],
      "metadata": {
        "id": "jbdwXKMAqrOZ"
      }
    },
    {
      "cell_type": "code",
      "source": [
        "melhores_medias = [nota[0] for nota in estudantes if nota[1]>= 9.0]\n",
        "melhores_medias"
      ],
      "metadata": {
        "colab": {
          "base_uri": "https://localhost:8080/"
        },
        "id": "yQCY3ZzSmxzo",
        "outputId": "593bd618-0d51-4a1a-a4e5-910a7a9429be"
      },
      "execution_count": 24,
      "outputs": [
        {
          "output_type": "execute_result",
          "data": {
            "text/plain": [
              "['João', 'Maria', 'Carlos']"
            ]
          },
          "metadata": {},
          "execution_count": 24
        }
      ]
    }
  ]
}