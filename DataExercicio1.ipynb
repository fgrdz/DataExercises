{
  "nbformat": 4,
  "nbformat_minor": 0,
  "metadata": {
    "colab": {
      "provenance": [],
      "authorship_tag": "ABX9TyNSGra+RfvH4qFBps16Bk4d",
      "include_colab_link": true
    },
    "kernelspec": {
      "name": "python3",
      "display_name": "Python 3"
    },
    "language_info": {
      "name": "python"
    }
  },
  "cells": [
    {
      "cell_type": "markdown",
      "metadata": {
        "id": "view-in-github",
        "colab_type": "text"
      },
      "source": [
        "<a href=\"https://colab.research.google.com/github/fgrdz/DataExercises/blob/main/DataExercicio1.ipynb\" target=\"_parent\"><img src=\"https://colab.research.google.com/assets/colab-badge.svg\" alt=\"Open In Colab\"/></a>"
      ]
    },
    {
      "cell_type": "markdown",
      "source": [
        "**Exercicio 1:** Importar o numpy usando o alias"
      ],
      "metadata": {
        "id": "HX5NGOk3gBzF"
      }
    },
    {
      "cell_type": "code",
      "source": [],
      "metadata": {
        "id": "slS2bOKMGvKi"
      },
      "execution_count": null,
      "outputs": []
    },
    {
      "cell_type": "markdown",
      "source": [],
      "metadata": {
        "id": "ylexrVxsa07t"
      }
    },
    {
      "cell_type": "code",
      "execution_count": null,
      "metadata": {
        "id": "DRqcIDANf7k_"
      },
      "outputs": [],
      "source": [
        "import numpy as np"
      ]
    },
    {
      "cell_type": "markdown",
      "source": [
        "**Exercicio 2:** Crie um programa que lê uma **lista** de números e escolha um número desta aleatoriamente."
      ],
      "metadata": {
        "id": "VpT2DkapgQot"
      }
    },
    {
      "cell_type": "code",
      "source": [
        "from random import choice\n",
        "\n",
        "lista = [8, 12, 54, 23, 43, 1, 90, 87, 105, 77]"
      ],
      "metadata": {
        "id": "6fdPHqchgWKi"
      },
      "execution_count": null,
      "outputs": []
    },
    {
      "cell_type": "markdown",
      "source": [
        "# Exercecio com interação\n",
        "\n"
      ],
      "metadata": {
        "id": "qk3ReSnfg8MI"
      }
    },
    {
      "cell_type": "code",
      "source": [
        "pessoa = input(\"Digite seu nome para gerarmos seu token\")"
      ],
      "metadata": {
        "colab": {
          "base_uri": "https://localhost:8080/"
        },
        "id": "Vh7x5Sk1hZrM",
        "outputId": "af08dfe2-f3a2-4cbb-b9e3-59572b339af6"
      },
      "execution_count": null,
      "outputs": [
        {
          "name": "stdout",
          "output_type": "stream",
          "text": [
            "Digite seu nome para gerarmos seu tokenJoao\n"
          ]
        }
      ]
    },
    {
      "cell_type": "code",
      "source": [
        "from random import randrange\n",
        "\n",
        "token = randrange(1000,9998)\n",
        "token"
      ],
      "metadata": {
        "colab": {
          "base_uri": "https://localhost:8080/"
        },
        "id": "orzLCMJuhxsD",
        "outputId": "fb6c8ade-56c9-40a1-876b-aeee97fd7885"
      },
      "execution_count": null,
      "outputs": [
        {
          "output_type": "execute_result",
          "data": {
            "text/plain": [
              "8782"
            ]
          },
          "metadata": {},
          "execution_count": 9
        }
      ]
    },
    {
      "cell_type": "code",
      "source": [
        "print(f\"Olá, {pessoa}, o seu token de acesso é {token}! Seja bem-vindo(a)!\")"
      ],
      "metadata": {
        "colab": {
          "base_uri": "https://localhost:8080/"
        },
        "id": "XUcOE3cOihgP",
        "outputId": "8e33c193-b6fa-4d16-fd34-4a8f86c5b42d"
      },
      "execution_count": null,
      "outputs": [
        {
          "output_type": "stream",
          "name": "stdout",
          "text": [
            "Olá, Joao, o seu token de acesso é 8782! Seja bem-vindo(a)!\n"
          ]
        }
      ]
    },
    {
      "cell_type": "code",
      "source": [
        "notas_alunos = {\n",
        "    \"João\": 8.5,\n",
        "    \"Maria\": 9.0,\n",
        "    \"Pedro\": 7.2,\n",
        "    \"Ana\": 6.8,\n",
        "    \"Carlos\": 9.5,\n",
        "    \"Jose\": 0\n",
        "}\n",
        "notas_alunos"
      ],
      "metadata": {
        "colab": {
          "base_uri": "https://localhost:8080/"
        },
        "id": "45doaeV5yiyM",
        "outputId": "a9818286-8fa9-4c4d-a0df-c9850c4b6aca"
      },
      "execution_count": null,
      "outputs": [
        {
          "output_type": "execute_result",
          "data": {
            "text/plain": [
              "{'João': 8.5, 'Maria': 9.0, 'Pedro': 7.2, 'Ana': 6.8, 'Carlos': 9.5, 'Jose': 0}"
            ]
          },
          "metadata": {},
          "execution_count": 26
        }
      ]
    },
    {
      "cell_type": "code",
      "source": [
        "soma = sum(notas_alunos.values())\n",
        "qtd = len(notas_alunos)\n",
        "media_turma = soma / qtd\n",
        "\n",
        "round(media_turma)"
      ],
      "metadata": {
        "colab": {
          "base_uri": "https://localhost:8080/"
        },
        "id": "_KcKdXiQy-Yf",
        "outputId": "7f8d2b83-c2c9-4fb8-cd25-af601505ab7c"
      },
      "execution_count": null,
      "outputs": [
        {
          "output_type": "execute_result",
          "data": {
            "text/plain": [
              "7"
            ]
          },
          "metadata": {},
          "execution_count": 27
        }
      ]
    },
    {
      "cell_type": "markdown",
      "source": [
        "Dessa forma, o código pode ficar flexível, caso sejam adicionadas novas chaves no dicionário de notas, ele irá calcular a média corretamente.\n"
      ],
      "metadata": {
        "id": "N38AvqKpzl2w"
      }
    },
    {
      "cell_type": "markdown",
      "source": [
        "Agora vou fazer adicionar um acréscimo as notas, converter para uma lista usando o list do Python, depois utilizando map e lambda function, adicionar o acréscimo em cada nota."
      ],
      "metadata": {
        "id": "uojZFxDz1oGZ"
      }
    },
    {
      "cell_type": "code",
      "source": [
        "notas_lista = list(notas_alunos.items())\n",
        "acrescimo = 1\n"
      ],
      "metadata": {
        "id": "5HygCfHDz2QT"
      },
      "execution_count": null,
      "outputs": []
    },
    {
      "cell_type": "code",
      "source": [
        "def tuplas(x):\n",
        "  chave, valor = x;\n",
        "  nova_nota = valor + acrescimo\n",
        "  return nova_nota\n"
      ],
      "metadata": {
        "id": "Ne3zuLgX-Dv2"
      },
      "execution_count": null,
      "outputs": []
    },
    {
      "cell_type": "code",
      "source": [
        "notas_atualizadas = list(map(tuplas, notas_lista))\n",
        "notas_atualizadas\n",
        "\n",
        "nomes = list(notas_alunos)\n",
        "nomes\n"
      ],
      "metadata": {
        "colab": {
          "base_uri": "https://localhost:8080/"
        },
        "id": "I0qCxBQE2LSt",
        "outputId": "abda72d2-f2e4-4dda-df2c-94048b7cb180"
      },
      "execution_count": null,
      "outputs": [
        {
          "output_type": "execute_result",
          "data": {
            "text/plain": [
              "['João', 'Maria', 'Pedro', 'Ana', 'Carlos', 'Jose']"
            ]
          },
          "metadata": {},
          "execution_count": 30
        }
      ]
    },
    {
      "cell_type": "markdown",
      "source": [
        "# *Estrutura de dados*"
      ],
      "metadata": {
        "id": "7dMjfxOyLjJ0"
      }
    },
    {
      "cell_type": "code",
      "source": [
        "estudantes = list(zip(nomes,notas_atualizadas))\n",
        "estudantes"
      ],
      "metadata": {
        "colab": {
          "base_uri": "https://localhost:8080/"
        },
        "id": "6xWImo-7qVrJ",
        "outputId": "1a1736db-17b5-4a77-f5c7-bfe2bc9e445d"
      },
      "execution_count": null,
      "outputs": [
        {
          "output_type": "execute_result",
          "data": {
            "text/plain": [
              "[('João', 9.5),\n",
              " ('Maria', 10.0),\n",
              " ('Pedro', 8.2),\n",
              " ('Ana', 7.8),\n",
              " ('Carlos', 10.5),\n",
              " ('Jose', 1)]"
            ]
          },
          "metadata": {},
          "execution_count": 39
        }
      ]
    },
    {
      "cell_type": "markdown",
      "source": [
        "Foi feita a lista de tuplas que retorna os alunos e as notas novas, abaixo, é exibido por meio de ListComprehension, os alunos com melhores médias"
      ],
      "metadata": {
        "id": "jbdwXKMAqrOZ"
      }
    },
    {
      "cell_type": "code",
      "source": [
        "melhores_medias = [nota[0] for nota in estudantes if nota[1]>= 9.0]\n",
        "melhores_medias"
      ],
      "metadata": {
        "colab": {
          "base_uri": "https://localhost:8080/"
        },
        "id": "yQCY3ZzSmxzo",
        "outputId": "a614880d-233c-4986-f39a-5db41d9389d8"
      },
      "execution_count": null,
      "outputs": [
        {
          "output_type": "execute_result",
          "data": {
            "text/plain": [
              "['João', 'Maria', 'Carlos']"
            ]
          },
          "metadata": {},
          "execution_count": 32
        }
      ]
    },
    {
      "cell_type": "code",
      "source": [
        "lista_de_listas = [[4,6,5,9], [1,0,7,2], [3,4,1,8]]\n",
        "\n",
        "lista_somas = [sum(lista) for lista in lista_de_listas]\n",
        "lista_somas"
      ],
      "metadata": {
        "colab": {
          "base_uri": "https://localhost:8080/"
        },
        "id": "Z7DzDQxra2QK",
        "outputId": "13ec239d-2dec-4996-9781-d99a54209b46"
      },
      "execution_count": null,
      "outputs": [
        {
          "output_type": "execute_result",
          "data": {
            "text/plain": [
              "[24, 10, 16]"
            ]
          },
          "metadata": {},
          "execution_count": 19
        }
      ]
    },
    {
      "cell_type": "code",
      "source": [
        "List = []"
      ],
      "metadata": {
        "id": "V_aXQXCgHbl_"
      },
      "execution_count": null,
      "outputs": []
    },
    {
      "cell_type": "code",
      "source": [
        "# Exercício do leetcode\n",
        "def romanToInt(s: str) -> int:\n",
        "  # definir o dicionário com a tabela chave valor\n",
        "    roman_values = {\n",
        "        'I': 1,\n",
        "        'V': 5,\n",
        "        'X': 10,\n",
        "        'L': 50,\n",
        "        'C': 100,\n",
        "        'D': 500,\n",
        "        'M': 1000\n",
        "    }\n",
        "    if s.islower():\n",
        "        s = s.upper() # converte a string para maiúsculo\n",
        "\n",
        "    value = 0 #iniciar a value com 0 para acumular o valor correspondente ao algarismo\n",
        "    prev_value = 0\n",
        "    # a prev acompanha o caractere anterior durante a iteração\n",
        "\n",
        "    for i in s[::-1]:\n",
        "      if roman_values[i] >= prev_value:\n",
        "          value += roman_values[i]\n",
        "      else:\n",
        "        value -= roman_values[i]\n",
        "\n",
        "      prev_value = roman_values[i]\n",
        "\n",
        "    return value\n",
        "    '''\n",
        "       Para cada caractere i na string s, é verificado se o valor numérico\n",
        "       correspondente a i (obtido do dicionário roman_values) é maior ou igual ao valor\n",
        "       numérico do caractere anterior (prev_value).\n",
        "       Os algarismos romanos são lidos da direita para a esquerda, e quando um\n",
        "       valor menor precede um valor maior, significa que devemos subtrair o valor menor em vez de somá-lo.\n",
        "    '''"
      ],
      "metadata": {
        "id": "phEwK-xHGwVa"
      },
      "execution_count": null,
      "outputs": []
    },
    {
      "cell_type": "code",
      "source": [],
      "metadata": {
        "id": "YOCcpa-IJ_hg"
      },
      "execution_count": null,
      "outputs": []
    },
    {
      "cell_type": "code",
      "source": [
        "# Exercicio Leetcode\n",
        "def ler(strs):\n",
        "   str_curta = min(strs, key=len)\n",
        "\n",
        "   for  i, char in enumerate(str_curta):\n",
        "    for j in strs:\n",
        "      if j[i] != char:\n",
        "        return str_curta[:i]\n",
        "   return str_curta\n",
        "\n",
        "lista = [\"faca\", \"farta\", \"falha\"]\n",
        "ler(lista)"
      ],
      "metadata": {
        "colab": {
          "base_uri": "https://localhost:8080/",
          "height": 35
        },
        "id": "_5YPgDx1r5cQ",
        "outputId": "5dec8c49-df7d-4965-b5cd-b838d637c2bd"
      },
      "execution_count": null,
      "outputs": [
        {
          "output_type": "execute_result",
          "data": {
            "text/plain": [
              "'fa'"
            ],
            "application/vnd.google.colaboratory.intrinsic+json": {
              "type": "string"
            }
          },
          "metadata": {},
          "execution_count": 68
        }
      ]
    },
    {
      "cell_type": "code",
      "source": [
        "# Exercicio do leetcode Mesclar duas linkedlist\n",
        "from typing import Optional\n",
        "\n",
        "class ListNode:\n",
        "     def __init__(self, val=0, next=None):\n",
        "         self.val = val\n",
        "         self.next = next\n",
        "\n",
        "def mergeTwoLists(self, list1: Optional[ListNode], list2: Optional[ListNode]) -> Optional[ListNode]:\n",
        "        nó = ListNode()\n",
        "        atual = nó # Ponteiro para o nó atual na lista mesclada\n",
        "\n",
        "        # o loop vai comparar os valores e inserir o nó de menor valor na lista mesclada\n",
        "        while list1 and list2:\n",
        "            if list1.val <list2.val:\n",
        "                atual.next = list1\n",
        "                list1 = list1.next\n",
        "            else:\n",
        "                atual.next = list2\n",
        "                list2 = list2.next\n",
        "            atual = atual.next\n",
        "\n",
        "        if list1:\n",
        "            atual.next = list1\n",
        "        if list2:\n",
        "            atual.next = list2\n",
        "\n",
        "        return nó.next\n",
        "\n",
        "# Iniciamos um loop que continuará enquanto ambos list1 e list2 não forem None. Este loop é responsável por comparar os valores dos nós apontados por list1 e list2 e inserir o nó com o menor valor na lista mesclada.\n",
        "# Se list1.val for menor que list2.val, inserimos o nó list1 na lista mesclada e movemos list1 para o próximo nó. Caso contrário, inserimos o nó list2 na lista mesclada e movemos list2 para o próximo nó.\n",
        "# O ponteiro current também é movido para o próximo nó na lista mesclada."
      ],
      "metadata": {
        "id": "TOi5wr0-5RT8"
      },
      "execution_count": null,
      "outputs": []
    },
    {
      "cell_type": "code",
      "source": [
        "def intToRoman(num: int) -> str:\n",
        "    roman_values = {\n",
        "        1: 'I',\n",
        "        4: 'IV',\n",
        "        5: 'V',\n",
        "        9: 'IX',\n",
        "        10: 'X',\n",
        "        40: 'XL',\n",
        "        50: 'L',\n",
        "        90: 'XC',\n",
        "        100: 'C',\n",
        "        400: 'CD',\n",
        "        500: 'D',\n",
        "        900: 'CM',\n",
        "        1000: 'M'\n",
        "      }\n",
        "\n",
        "    roman_str = ''\n",
        "    # cria uma lista com as keys para conseguir percorrer ela de baixo pra cima\n",
        "    lista_indices = list(roman_values.keys())\n",
        "    for value in lista_indices[::-1]:\n",
        "      while num >= value:\n",
        "          roman_str += roman_values[value]\n",
        "          num -= value\n",
        "    return roman_str\n",
        "numero = 999\n",
        "resultado = intToRoman(numero)\n",
        "resultado"
      ],
      "metadata": {
        "colab": {
          "base_uri": "https://localhost:8080/",
          "height": 35
        },
        "id": "07glXiNpKAoq",
        "outputId": "2fadb0e2-76e7-462a-82c7-5be8482fc88e"
      },
      "execution_count": 31,
      "outputs": [
        {
          "output_type": "execute_result",
          "data": {
            "text/plain": [
              "'CMXCIX'"
            ],
            "application/vnd.google.colaboratory.intrinsic+json": {
              "type": "string"
            }
          },
          "metadata": {},
          "execution_count": 31
        }
      ]
    }
  ]
}